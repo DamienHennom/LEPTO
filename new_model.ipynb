{
 "cells": [
  {
   "cell_type": "code",
   "execution_count": 155,
   "metadata": {},
   "outputs": [],
   "source": [
    "import pandas as pd\n",
    "import numpy as np"
   ]
  },
  {
   "cell_type": "code",
   "execution_count": 156,
   "metadata": {},
   "outputs": [],
   "source": [
    "# Import data\n",
    "results_tourney = pd.read_csv('WDataFiles_Stage1/WNCAATourneyCompactResults.csv')\n",
    "results_season = pd.read_csv('WDataFiles_Stage1/WRegularSeasonCompactResults.csv')\n",
    "seeds = pd.read_csv('WDataFiles_Stage1/WNCAATourneySeeds.csv')"
   ]
  },
  {
   "cell_type": "code",
   "execution_count": 157,
   "metadata": {},
   "outputs": [
    {
     "name": "stdout",
     "output_type": "stream",
     "text": [
      "(1386, 8)\n",
      "(107012, 8)\n",
      "(1408, 3)\n"
     ]
    }
   ],
   "source": [
    "print(results_tourney.shape)\n",
    "print(results_season.shape)\n",
    "print(seeds.shape)"
   ]
  },
  {
   "cell_type": "code",
   "execution_count": 158,
   "metadata": {},
   "outputs": [],
   "source": [
    "results_tourney['fromdata'] = 'tourney'\n",
    "results_season['fromdata'] = 'season'"
   ]
  },
  {
   "cell_type": "code",
   "execution_count": 159,
   "metadata": {},
   "outputs": [],
   "source": [
    "def concat_team(df):\n",
    "    df_new = df.copy()\n",
    "    df_new['WmatchTeam'] = df_new['WTeamID'].astype(str) + '_' + df_new['LTeamID'].astype(str)\n",
    "    df_new['LmatchTeam'] = df_new['LTeamID'].astype(str) + '_' + df_new['WTeamID'].astype(str)\n",
    "    return df_new"
   ]
  },
  {
   "cell_type": "code",
   "execution_count": 160,
   "metadata": {},
   "outputs": [],
   "source": [
    "results_tourney = concat_team(results_tourney)\n",
    "results_season = concat_team(results_season)"
   ]
  },
  {
   "cell_type": "code",
   "execution_count": 161,
   "metadata": {},
   "outputs": [],
   "source": [
    "results_tourney = results_tourney[results_tourney['Season'].isin([2017, 2018, 2019])].reset_index(drop=True)\n",
    "results_season = results_season[results_season['Season'].isin([2017, 2018, 2019])].reset_index(drop=True)"
   ]
  },
  {
   "cell_type": "code",
   "execution_count": 162,
   "metadata": {},
   "outputs": [
    {
     "name": "stdout",
     "output_type": "stream",
     "text": [
      "(189, 11)\n",
      "(15659, 11)\n",
      "(1408, 3)\n"
     ]
    }
   ],
   "source": [
    "print(results_tourney.shape)\n",
    "print(results_season.shape)\n",
    "print(seeds.shape)"
   ]
  },
  {
   "cell_type": "code",
   "execution_count": 163,
   "metadata": {},
   "outputs": [
    {
     "data": {
      "text/html": [
       "<div>\n",
       "<style scoped>\n",
       "    .dataframe tbody tr th:only-of-type {\n",
       "        vertical-align: middle;\n",
       "    }\n",
       "\n",
       "    .dataframe tbody tr th {\n",
       "        vertical-align: top;\n",
       "    }\n",
       "\n",
       "    .dataframe thead th {\n",
       "        text-align: right;\n",
       "    }\n",
       "</style>\n",
       "<table border=\"1\" class=\"dataframe\">\n",
       "  <thead>\n",
       "    <tr style=\"text-align: right;\">\n",
       "      <th></th>\n",
       "      <th>Season</th>\n",
       "      <th>DayNum</th>\n",
       "      <th>WTeamID</th>\n",
       "      <th>WScore</th>\n",
       "      <th>LTeamID</th>\n",
       "      <th>LScore</th>\n",
       "      <th>WLoc</th>\n",
       "      <th>NumOT</th>\n",
       "      <th>fromdata</th>\n",
       "      <th>WmatchTeam</th>\n",
       "      <th>LmatchTeam</th>\n",
       "    </tr>\n",
       "  </thead>\n",
       "  <tbody>\n",
       "    <tr>\n",
       "      <th>0</th>\n",
       "      <td>2017</td>\n",
       "      <td>137</td>\n",
       "      <td>3113</td>\n",
       "      <td>73</td>\n",
       "      <td>3277</td>\n",
       "      <td>61</td>\n",
       "      <td>N</td>\n",
       "      <td>0</td>\n",
       "      <td>tourney</td>\n",
       "      <td>3113_3277</td>\n",
       "      <td>3277_3113</td>\n",
       "    </tr>\n",
       "    <tr>\n",
       "      <th>1</th>\n",
       "      <td>2017</td>\n",
       "      <td>137</td>\n",
       "      <td>3166</td>\n",
       "      <td>76</td>\n",
       "      <td>3405</td>\n",
       "      <td>49</td>\n",
       "      <td>N</td>\n",
       "      <td>0</td>\n",
       "      <td>tourney</td>\n",
       "      <td>3166_3405</td>\n",
       "      <td>3405_3166</td>\n",
       "    </tr>\n",
       "    <tr>\n",
       "      <th>2</th>\n",
       "      <td>2017</td>\n",
       "      <td>137</td>\n",
       "      <td>3177</td>\n",
       "      <td>88</td>\n",
       "      <td>3320</td>\n",
       "      <td>67</td>\n",
       "      <td>N</td>\n",
       "      <td>0</td>\n",
       "      <td>tourney</td>\n",
       "      <td>3177_3320</td>\n",
       "      <td>3320_3177</td>\n",
       "    </tr>\n",
       "    <tr>\n",
       "      <th>3</th>\n",
       "      <td>2017</td>\n",
       "      <td>137</td>\n",
       "      <td>3199</td>\n",
       "      <td>87</td>\n",
       "      <td>3442</td>\n",
       "      <td>66</td>\n",
       "      <td>H</td>\n",
       "      <td>0</td>\n",
       "      <td>tourney</td>\n",
       "      <td>3199_3442</td>\n",
       "      <td>3442_3199</td>\n",
       "    </tr>\n",
       "    <tr>\n",
       "      <th>4</th>\n",
       "      <td>2017</td>\n",
       "      <td>137</td>\n",
       "      <td>3246</td>\n",
       "      <td>73</td>\n",
       "      <td>3125</td>\n",
       "      <td>70</td>\n",
       "      <td>H</td>\n",
       "      <td>0</td>\n",
       "      <td>tourney</td>\n",
       "      <td>3246_3125</td>\n",
       "      <td>3125_3246</td>\n",
       "    </tr>\n",
       "  </tbody>\n",
       "</table>\n",
       "</div>"
      ],
      "text/plain": [
       "   Season  DayNum  WTeamID  WScore  LTeamID  LScore WLoc  NumOT fromdata  \\\n",
       "0    2017     137     3113      73     3277      61    N      0  tourney   \n",
       "1    2017     137     3166      76     3405      49    N      0  tourney   \n",
       "2    2017     137     3177      88     3320      67    N      0  tourney   \n",
       "3    2017     137     3199      87     3442      66    H      0  tourney   \n",
       "4    2017     137     3246      73     3125      70    H      0  tourney   \n",
       "\n",
       "  WmatchTeam LmatchTeam  \n",
       "0  3113_3277  3277_3113  \n",
       "1  3166_3405  3405_3166  \n",
       "2  3177_3320  3320_3177  \n",
       "3  3199_3442  3442_3199  \n",
       "4  3246_3125  3125_3246  "
      ]
     },
     "execution_count": 163,
     "metadata": {},
     "output_type": "execute_result"
    }
   ],
   "source": [
    "results_tourney.head()"
   ]
  },
  {
   "cell_type": "markdown",
   "metadata": {},
   "source": [
    "# Seed"
   ]
  },
  {
   "cell_type": "code",
   "execution_count": 164,
   "metadata": {},
   "outputs": [],
   "source": [
    "results_tourney = pd.merge(results_tourney, seeds, how='left', left_on=['Season', 'WTeamID'], right_on=['Season', 'TeamID'])\n",
    "results_tourney.rename(columns={'Seed': 'WSeed'}, inplace=True)\n",
    "results_tourney['WSeed'] = results_tourney['WSeed'].astype(str).str[1:].astype(int)\n",
    "\n",
    "results_tourney = pd.merge(results_tourney, seeds, how='left', left_on=['Season', 'LTeamID'], right_on=['Season', 'TeamID'])\n",
    "results_tourney.rename(columns={'Seed': 'LSeed'}, inplace=True)\n",
    "results_tourney['LSeed'] = results_tourney['LSeed'].astype(str).str[1:].astype(int)\n",
    "\n",
    "results_tourney['diff_seed'] = results_tourney['WSeed'] - results_tourney['LSeed']"
   ]
  },
  {
   "cell_type": "code",
   "execution_count": 165,
   "metadata": {},
   "outputs": [],
   "source": [
    "results_season = pd.merge(results_season, seeds, how='left', left_on=['Season', 'WTeamID'], right_on=['Season', 'TeamID'])\n",
    "results_season.rename(columns={'Seed': 'WSeed'}, inplace=True)\n",
    "results_season['WSeed'] = results_season['WSeed'].fillna('X15').astype(str).str[1:].astype(int)\n",
    "\n",
    "results_season = pd.merge(results_season, seeds, how='left', left_on=['Season', 'LTeamID'], right_on=['Season', 'TeamID'])\n",
    "results_season.rename(columns={'Seed': 'LSeed'}, inplace=True)\n",
    "results_season['LSeed'] = results_season['LSeed'].fillna('X15').astype(str).str[1:].astype(int)\n",
    "\n",
    "results_season['diff_seed'] = results_season['WSeed'] - results_season['LSeed']"
   ]
  },
  {
   "cell_type": "code",
   "execution_count": 166,
   "metadata": {},
   "outputs": [
    {
     "name": "stdout",
     "output_type": "stream",
     "text": [
      "(189, 16)\n",
      "(15659, 16)\n",
      "(1408, 3)\n"
     ]
    }
   ],
   "source": [
    "print(results_tourney.shape)\n",
    "print(results_season.shape)\n",
    "print(seeds.shape)"
   ]
  },
  {
   "cell_type": "markdown",
   "metadata": {},
   "source": [
    "# Diff"
   ]
  },
  {
   "cell_type": "code",
   "execution_count": 167,
   "metadata": {},
   "outputs": [],
   "source": [
    "# Easy for tourney\n",
    "attack_winner_score_to_merge = results_season.groupby(['Season', 'WTeamID']).agg({'WScore': 'sum'}).reset_index()\n",
    "attack_winner_score_to_merge.rename(columns={'WScore': 'Wscore_season_attack'}, inplace=True)\n",
    "results_tourney = pd.merge(results_tourney, attack_winner_score_to_merge, how='left', left_on=['Season', 'WTeamID'], right_on=['Season', 'WTeamID'])\n",
    "\n",
    "attack_looser_score_to_merge = results_season.groupby(['Season', 'LTeamID']).agg({'LScore': 'sum'}).reset_index()\n",
    "attack_looser_score_to_merge.rename(columns={'LScore': 'LScore_season_attack'}, inplace=True)\n",
    "results_tourney = pd.merge(results_tourney, attack_looser_score_to_merge, how='left', left_on=['Season', 'LTeamID'], right_on=['Season', 'LTeamID'])\n",
    "\n",
    "def_winner_score_to_merge = results_season.groupby(['Season', 'WTeamID']).agg({'LScore': 'sum'}).reset_index()\n",
    "def_winner_score_to_merge.rename(columns={'LScore': 'Wscore_season_def'}, inplace=True)\n",
    "results_tourney = pd.merge(results_tourney, def_winner_score_to_merge, how='left', left_on=['Season', 'WTeamID'], right_on=['Season', 'WTeamID'])\n",
    "\n",
    "def_looser_score_to_merge = results_season.groupby(['Season', 'LTeamID']).agg({'WScore': 'sum'}).reset_index()\n",
    "def_looser_score_to_merge.rename(columns={'WScore': 'Lscore_season_def'}, inplace=True)\n",
    "results_tourney = pd.merge(results_tourney, def_looser_score_to_merge, how='left', left_on=['Season', 'LTeamID'], right_on=['Season', 'LTeamID'])\n",
    "\n",
    "results_tourney['diff_def'] = results_tourney['Wscore_season_def'] / results_tourney['Lscore_season_def']\n",
    "results_tourney['diff_attack'] = results_tourney['Wscore_season_attack'] /results_tourney['LScore_season_attack']"
   ]
  },
  {
   "cell_type": "code",
   "execution_count": 168,
   "metadata": {},
   "outputs": [],
   "source": [
    "results_tourney['diff_def'] = results_tourney['diff_def'].fillna(-999)\n",
    "results_tourney['diff_attack'] = results_tourney['diff_attack'].fillna(-999)"
   ]
  },
  {
   "cell_type": "code",
   "execution_count": null,
   "metadata": {},
   "outputs": [
    {
     "name": "stdout",
     "output_type": "stream",
     "text": [
      "2017\n",
      "2018\n"
     ]
    }
   ],
   "source": [
    "# Not easy for season\n",
    "j_wscore = results_season.columns.get_loc('WScore')\n",
    "j_lscore = results_season.columns.get_loc('LScore')\n",
    "j_team = results_season.columns.get_loc('WTeamID')\n",
    "for season in range(np.min(results_season['Season']), np.max(results_season['Season'])+1):\n",
    "    print(season)\n",
    "    for team in np.unique(results_season['WTeamID']):\n",
    "        prev_score_watt = 0\n",
    "        prev_score_latt = 0\n",
    "        prev_score_wdef = 0\n",
    "        prev_score_ldef = 0\n",
    "        for i in range(0, results_season.shape[0]):\n",
    "            if (results_season.iat[i, j_team]==team) & (results_season.loc[i, 'Season']==season):\n",
    "                results_season.loc[i, 'Wscore_season_attack'] = results_season.iat[i, j_wscore] + prev_score_watt\n",
    "                prev_score_watt = results_season.loc[i, 'Wscore_season_attack']\n",
    "                \n",
    "                results_season.loc[i, 'Wscore_season_def'] = results_season.iat[i, j_lscore] + prev_score_wdef\n",
    "                prev_score_wdef = results_season.loc[i, 'Wscore_season_def']\n",
    "                \n",
    "            if (results_season.iat[i, j_team]==team) & (results_season.loc[i, 'Season']==season):\n",
    "                results_season.loc[i, 'LScore_season_attack'] = results_season.iat[i, j_lscore] + prev_score_latt\n",
    "                prev_score_latt = results_season.loc[i, 'LScore_season_attack']\n",
    "                \n",
    "                results_season.loc[i, 'Lscore_season_def'] = results_season.iat[i, j_wscore] + prev_score_ldef\n",
    "                prev_score_ldef = results_season.loc[i, 'Lscore_season_def']\n",
    "                \n",
    "results_season['diff_def'] = results_season['Wscore_season_def'] / results_season['Lscore_season_def']\n",
    "results_season['diff_attack'] = results_season['Wscore_season_attack'] / results_season['LScore_season_attack']"
   ]
  },
  {
   "cell_type": "code",
   "execution_count": null,
   "metadata": {},
   "outputs": [],
   "source": [
    "results_season['diff_def'] = results_season['diff_def'].fillna(-999)\n",
    "results_season['diff_attack'] = results_season['diff_attack'].fillna(-999)"
   ]
  },
  {
   "cell_type": "code",
   "execution_count": null,
   "metadata": {},
   "outputs": [],
   "source": [
    "# Easy for tourney\n",
    "prev_score_to_merge = results_season.groupby(['Season', 'WmatchTeam']).agg({'result': 'sum'}).reset_index()\n",
    "prev_score_to_merge.rename(columns={'result': 'nb_win_previous'}, inplace=True)\n",
    "results_tourney = pd.merge(results_tourney, prev_score_to_merge, how='left', left_on=['Season', 'WmatchTeam'], right_on=['Season', 'WmatchTeam'])\n",
    "results_tourney['nb_win_previous'] = results_tourney['nb_win_previous'].fillna(0)"
   ]
  },
  {
   "cell_type": "code",
   "execution_count": null,
   "metadata": {},
   "outputs": [],
   "source": [
    "# Easy for tourney\n",
    "prev_score_to_merge = results_season.groupby(['Season', 'WmatchTeam']).agg({'result': 'sum'}).reset_index()\n",
    "prev_score_to_merge.rename(columns={'result': 'nb_win_previous'}, inplace=True)\n",
    "results_season = pd.merge(results_season, prev_score_to_merge, how='left', left_on=['Season', 'WmatchTeam'], right_on=['Season', 'WmatchTeam'])\n",
    "results_season['nb_win_previous'] = results_season['nb_win_previous'].fillna(0)"
   ]
  },
  {
   "cell_type": "code",
   "execution_count": null,
   "metadata": {},
   "outputs": [],
   "source": []
  },
  {
   "cell_type": "code",
   "execution_count": null,
   "metadata": {},
   "outputs": [],
   "source": [
    "print(results_tourney.shape)\n",
    "print(results_season.shape)\n",
    "print(seeds.shape)"
   ]
  },
  {
   "cell_type": "code",
   "execution_count": null,
   "metadata": {},
   "outputs": [],
   "source": [
    "results_tourney.tail(10)"
   ]
  },
  {
   "cell_type": "markdown",
   "metadata": {},
   "source": [
    "# Convert"
   ]
  },
  {
   "cell_type": "code",
   "execution_count": null,
   "metadata": {},
   "outputs": [],
   "source": [
    "def convert_result(results_origin):\n",
    "    \"\"\" Create a combine data with win and loose \"\"\"\n",
    "    results = results_origin.copy()\n",
    "    results['result'] = 1 # win\n",
    "    Lresults = results.copy()\n",
    "    Lresults['result'] = 0 # lose\n",
    "    Lresults['WTeamID'] = results['LTeamID']\n",
    "    Lresults['LTeamID'] = results['WTeamID']\n",
    "    Lresults['WScore'] = results['LScore']\n",
    "    Lresults['LScore'] = results['WScore']\n",
    "    Lresults['diff_seed'] = -results['diff_seed']\n",
    "    Lresults['diff_attack'] = 1 / results['diff_attack']\n",
    "    Lresults['diff_def'] = 1 / results['diff_def']\n",
    "    # Lresults['nb_win_previous'] = 1 / results['nb_win_previous']\n",
    "    Lresults['WLoc'].replace({'H': 'A'}, inplace=True)\n",
    "    \n",
    "    Lresults['WmatchTeam'] = Lresults['WTeamID'].astype(str) + '_' + Lresults['LTeamID'].astype(str)\n",
    "    Lresults['LmatchTeam'] = Lresults['LTeamID'].astype(str) + '_' + Lresults['WTeamID'].astype(str)\n",
    "    \n",
    "    results = pd.concat([results, Lresults]).reset_index(drop=True)\n",
    "\n",
    "    results = results.sort_values(by=['Season', 'DayNum', 'WmatchTeam'], ascending=True)\n",
    "    results.reset_index(inplace=True, drop=True)\n",
    "    \n",
    "    return results"
   ]
  },
  {
   "cell_type": "code",
   "execution_count": null,
   "metadata": {},
   "outputs": [],
   "source": [
    "results_season = convert_result(results_season)\n",
    "results_tourney = convert_result(results_tourney)"
   ]
  },
  {
   "cell_type": "code",
   "execution_count": null,
   "metadata": {},
   "outputs": [],
   "source": [
    "results = pd.concat([results_season, results_tourney]).reset_index(drop=True)"
   ]
  },
  {
   "cell_type": "code",
   "execution_count": null,
   "metadata": {},
   "outputs": [],
   "source": [
    "np.unique(results['Season'])"
   ]
  },
  {
   "cell_type": "markdown",
   "metadata": {},
   "source": [
    "# Model"
   ]
  },
  {
   "cell_type": "code",
   "execution_count": null,
   "metadata": {},
   "outputs": [],
   "source": [
    "# Create fold strategy\n",
    "# To do: weight on fold\n",
    "myCViterator = []\n",
    "weight = []\n",
    "for fold in [2017, 2018, 2019]:\n",
    "    trainIndices = results[(results['Season']==fold) & (results['fromdata']=='season')].index.values.astype(int)\n",
    "    testIndices =  results[(results['Season']==fold) & (results['fromdata']=='tourney')].index.values.astype(int)\n",
    "    myCViterator.append((trainIndices, testIndices))"
   ]
  },
  {
   "cell_type": "code",
   "execution_count": null,
   "metadata": {},
   "outputs": [],
   "source": [
    "variables = ['diff_seed', 'diff_def', 'diff_attack']\n",
    "X = results[variables]\n",
    "y = results['result']"
   ]
  },
  {
   "cell_type": "code",
   "execution_count": null,
   "metadata": {},
   "outputs": [],
   "source": [
    "from sklearn.base import TransformerMixin, BaseEstimator\n",
    "class CategoriesHarm(TransformerMixin, BaseEstimator):\n",
    "    \n",
    "    def __init__(self):\n",
    "        self.cat_save = None \n",
    "        \n",
    "    def fit(self, X, y=None):\n",
    "        \n",
    "        self.cat_save = []\n",
    "        for i in range(X.shape[1]):\n",
    "            self.cat_save.append(np.unique(X.iloc[:, i]))\n",
    "        return self\n",
    "        \n",
    "    def transform(self, X):\n",
    "        \n",
    "        X_new = X.copy()\n",
    "        for i in range(X.shape[1]):\n",
    "            X_new.iloc[~np.isin(X_new.iloc[:, i], self.cat_save[i]), i] = self.cat_save[i][-1]\n",
    "        \n",
    "        return X_new"
   ]
  },
  {
   "cell_type": "code",
   "execution_count": null,
   "metadata": {},
   "outputs": [],
   "source": [
    "from sklearn.model_selection import cross_val_score, cross_val_predict\n",
    "from sklearn import linear_model\n",
    "from sklearn.pipeline import Pipeline\n",
    "from sklearn.preprocessing import OneHotEncoder\n",
    "from sklearn.preprocessing import KBinsDiscretizer\n",
    "from sklearn.compose import ColumnTransformer\n",
    "from sklearn.metrics import log_loss\n",
    "from sklearn.metrics import make_scorer\n",
    "\n",
    "\n",
    "# To do: change to real binner\n",
    "pip_num = Pipeline([('binnernum', KBinsDiscretizer(n_bins=5, encode='ordinal')),\n",
    "                    ('onehotnum', OneHotEncoder(drop='first', sparse=False))])\n",
    "pip_cat = Pipeline([('harmcat', CategoriesHarm()),\n",
    "                    ('onehotcat', OneHotEncoder(drop='first', sparse=False))])\n",
    "data_prep = ColumnTransformer([\n",
    "    ('cat_feat', pip_num, ['diff_attack', 'diff_def']),\n",
    "    ('num_feat', pip_cat, ['diff_seed'])])"
   ]
  },
  {
   "cell_type": "code",
   "execution_count": null,
   "metadata": {},
   "outputs": [],
   "source": [
    "model = Pipeline([('prep', data_prep),\n",
    "                  ('model', linear_model.LogisticRegression(C=30))])\n",
    "for i, cv in enumerate(myCViterator):\n",
    "    model.fit(X.iloc[cv[0], :], y.iloc[cv[0]])\n",
    "    proba = model.predict_proba(X.iloc[cv[1], :])[:, 1]\n",
    "    print(log_loss(y.iloc[cv[1]], proba))"
   ]
  },
  {
   "cell_type": "code",
   "execution_count": null,
   "metadata": {},
   "outputs": [],
   "source": []
  },
  {
   "cell_type": "code",
   "execution_count": null,
   "metadata": {},
   "outputs": [],
   "source": [
    "sub = pd.read_csv('WSampleSubmissionStage2_2019.csv')"
   ]
  },
  {
   "cell_type": "code",
   "execution_count": null,
   "metadata": {},
   "outputs": [],
   "source": [
    "sub['Season'] = sub['ID'].str.split(\"_\", n=1, expand=True)[0].astype('int')\n",
    "sub['WTeamID'] = sub['ID'].str.split(\"_\", n=2, expand=True)[1].astype('int')\n",
    "sub['LTeamID'] = sub['ID'].str.split(\"_\", n=3, expand=True)[2].astype('int')\n",
    "sub = pd.merge(sub, seeds, how='left', left_on=['Season', 'WTeamID'], right_on=['Season', 'TeamID'])\n",
    "sub.rename(columns={'Seed': 'WSeed'}, inplace=True)\n",
    "sub['WSeed'] = sub['WSeed'].astype(str).str[1:].astype(int)\n",
    "\n",
    "sub = pd.merge(sub, seeds, how='left', left_on=['Season', 'LTeamID'], right_on=['Season', 'TeamID'])\n",
    "sub.rename(columns={'Seed': 'LSeed'}, inplace=True)\n",
    "sub['LSeed'] = sub['LSeed'].astype(str).str[1:].astype(int)"
   ]
  },
  {
   "cell_type": "code",
   "execution_count": null,
   "metadata": {},
   "outputs": [],
   "source": [
    "sub['diff_seed'] = sub['WSeed'] - sub['LSeed']"
   ]
  },
  {
   "cell_type": "code",
   "execution_count": null,
   "metadata": {},
   "outputs": [],
   "source": [
    "# Easy for tourney\n",
    "attack_winner_score_to_merge = results_season.groupby(['Season', 'WTeamID']).agg({'WScore': 'sum'}).reset_index()\n",
    "attack_winner_score_to_merge.rename(columns={'WScore': 'Wscore_season_attack'}, inplace=True)\n",
    "sub = pd.merge(sub, attack_winner_score_to_merge, how='left', left_on=['Season', 'WTeamID'], right_on=['Season', 'WTeamID'])\n",
    "\n",
    "attack_looser_score_to_merge = results_season.groupby(['Season', 'LTeamID']).agg({'LScore': 'sum'}).reset_index()\n",
    "attack_looser_score_to_merge.rename(columns={'LScore': 'LScore_season_attack'}, inplace=True)\n",
    "sub = pd.merge(sub, attack_looser_score_to_merge, how='left', left_on=['Season', 'LTeamID'], right_on=['Season', 'LTeamID'])\n",
    "\n",
    "def_winner_score_to_merge = results_season.groupby(['Season', 'WTeamID']).agg({'LScore': 'sum'}).reset_index()\n",
    "def_winner_score_to_merge.rename(columns={'LScore': 'Wscore_season_def'}, inplace=True)\n",
    "sub = pd.merge(sub, def_winner_score_to_merge, how='left', left_on=['Season', 'WTeamID'], right_on=['Season', 'WTeamID'])\n",
    "\n",
    "def_looser_score_to_merge = results_season.groupby(['Season', 'LTeamID']).agg({'WScore': 'sum'}).reset_index()\n",
    "def_looser_score_to_merge.rename(columns={'WScore': 'Lscore_season_def'}, inplace=True)\n",
    "sub = pd.merge(sub, def_looser_score_to_merge, how='left', left_on=['Season', 'LTeamID'], right_on=['Season', 'LTeamID'])\n",
    "\n",
    "sub['diff_def'] = sub['Wscore_season_def'] / sub['Lscore_season_def']\n",
    "sub['diff_attack'] = sub['Wscore_season_attack'] / sub['LScore_season_attack']"
   ]
  },
  {
   "cell_type": "code",
   "execution_count": null,
   "metadata": {},
   "outputs": [],
   "source": [
    "X_sub = sub[variables]\n",
    "proba = model.predict_proba(X_sub)[:, 1]"
   ]
  },
  {
   "cell_type": "code",
   "execution_count": null,
   "metadata": {},
   "outputs": [],
   "source": [
    "sub = pd.read_csv('WSampleSubmissionStage2_2019.csv')"
   ]
  },
  {
   "cell_type": "code",
   "execution_count": null,
   "metadata": {},
   "outputs": [],
   "source": [
    "sub['Pred'] = proba"
   ]
  },
  {
   "cell_type": "code",
   "execution_count": null,
   "metadata": {},
   "outputs": [],
   "source": [
    "sub.to_csv('sub.csv', index=False)"
   ]
  },
  {
   "cell_type": "code",
   "execution_count": null,
   "metadata": {},
   "outputs": [],
   "source": []
  }
 ],
 "metadata": {
  "kernelspec": {
   "display_name": "Python 3",
   "language": "python",
   "name": "python3"
  },
  "language_info": {
   "codemirror_mode": {
    "name": "ipython",
    "version": 3
   },
   "file_extension": ".py",
   "mimetype": "text/x-python",
   "name": "python",
   "nbconvert_exporter": "python",
   "pygments_lexer": "ipython3",
   "version": "3.7.4"
  }
 },
 "nbformat": 4,
 "nbformat_minor": 4
}

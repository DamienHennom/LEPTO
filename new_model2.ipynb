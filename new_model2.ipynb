{
 "cells": [
  {
   "cell_type": "code",
   "execution_count": 155,
   "metadata": {},
   "outputs": [],
   "source": [
    "import pandas as pd\n",
    "import numpy as np"
   ]
  },
  {
   "cell_type": "code",
   "execution_count": 156,
   "metadata": {},
   "outputs": [],
   "source": [
    "# Import data\n",
    "results_tourney = pd.read_csv('WDataFiles_Stage1/WNCAATourneyCompactResults.csv')\n",
    "results_season = pd.read_csv('WDataFiles_Stage1/WRegularSeasonCompactResults.csv')\n",
    "seeds = pd.read_csv('WDataFiles_Stage1/WNCAATourneySeeds.csv')"
   ]
  },
  {
   "cell_type": "code",
   "execution_count": 157,
   "metadata": {},
   "outputs": [
    {
     "name": "stdout",
     "output_type": "stream",
     "text": [
      "(1386, 8)\n",
      "(107012, 8)\n",
      "(1408, 3)\n"
     ]
    }
   ],
   "source": [
    "print(results_tourney.shape)\n",
    "print(results_season.shape)\n",
    "print(seeds.shape)"
   ]
  },
  {
   "cell_type": "code",
   "execution_count": 158,
   "metadata": {},
   "outputs": [],
   "source": [
    "results_tourney['fromdata'] = 'tourney'\n",
    "results_season['fromdata'] = 'season'"
   ]
  },
  {
   "cell_type": "code",
   "execution_count": 159,
   "metadata": {},
   "outputs": [],
   "source": [
    "def concat_team(df):\n",
    "    df_new = df.copy()\n",
    "    df_new['WmatchTeam'] = df_new['WTeamID'].astype(str) + '_' + df_new['LTeamID'].astype(str)\n",
    "    df_new['LmatchTeam'] = df_new['LTeamID'].astype(str) + '_' + df_new['WTeamID'].astype(str)\n",
    "    return df_new"
   ]
  },
  {
   "cell_type": "code",
   "execution_count": 160,
   "metadata": {},
   "outputs": [],
   "source": [
    "results_tourney = concat_team(results_tourney)\n",
    "results_season = concat_team(results_season)"
   ]
  },
  {
   "cell_type": "code",
   "execution_count": 161,
   "metadata": {},
   "outputs": [],
   "source": [
    "results_tourney = results_tourney[results_tourney['Season'].isin([2017, 2018, 2019])].reset_index(drop=True)\n",
    "results_season = results_season[results_season['Season'].isin([2017, 2018, 2019])].reset_index(drop=True)"
   ]
  },
  {
   "cell_type": "code",
   "execution_count": 162,
   "metadata": {},
   "outputs": [
    {
     "name": "stdout",
     "output_type": "stream",
     "text": [
      "(189, 11)\n",
      "(15659, 11)\n",
      "(1408, 3)\n"
     ]
    }
   ],
   "source": [
    "print(results_tourney.shape)\n",
    "print(results_season.shape)\n",
    "print(seeds.shape)"
   ]
  },
  {
   "cell_type": "code",
   "execution_count": 163,
   "metadata": {},
   "outputs": [
    {
     "data": {
      "text/html": [
       "<div>\n",
       "<style scoped>\n",
       "    .dataframe tbody tr th:only-of-type {\n",
       "        vertical-align: middle;\n",
       "    }\n",
       "\n",
       "    .dataframe tbody tr th {\n",
       "        vertical-align: top;\n",
       "    }\n",
       "\n",
       "    .dataframe thead th {\n",
       "        text-align: right;\n",
       "    }\n",
       "</style>\n",
       "<table border=\"1\" class=\"dataframe\">\n",
       "  <thead>\n",
       "    <tr style=\"text-align: right;\">\n",
       "      <th></th>\n",
       "      <th>Season</th>\n",
       "      <th>DayNum</th>\n",
       "      <th>WTeamID</th>\n",
       "      <th>WScore</th>\n",
       "      <th>LTeamID</th>\n",
       "      <th>LScore</th>\n",
       "      <th>WLoc</th>\n",
       "      <th>NumOT</th>\n",
       "      <th>fromdata</th>\n",
       "      <th>WmatchTeam</th>\n",
       "      <th>LmatchTeam</th>\n",
       "    </tr>\n",
       "  </thead>\n",
       "  <tbody>\n",
       "    <tr>\n",
       "      <th>0</th>\n",
       "      <td>2017</td>\n",
       "      <td>137</td>\n",
       "      <td>3113</td>\n",
       "      <td>73</td>\n",
       "      <td>3277</td>\n",
       "      <td>61</td>\n",
       "      <td>N</td>\n",
       "      <td>0</td>\n",
       "      <td>tourney</td>\n",
       "      <td>3113_3277</td>\n",
       "      <td>3277_3113</td>\n",
       "    </tr>\n",
       "    <tr>\n",
       "      <th>1</th>\n",
       "      <td>2017</td>\n",
       "      <td>137</td>\n",
       "      <td>3166</td>\n",
       "      <td>76</td>\n",
       "      <td>3405</td>\n",
       "      <td>49</td>\n",
       "      <td>N</td>\n",
       "      <td>0</td>\n",
       "      <td>tourney</td>\n",
       "      <td>3166_3405</td>\n",
       "      <td>3405_3166</td>\n",
       "    </tr>\n",
       "    <tr>\n",
       "      <th>2</th>\n",
       "      <td>2017</td>\n",
       "      <td>137</td>\n",
       "      <td>3177</td>\n",
       "      <td>88</td>\n",
       "      <td>3320</td>\n",
       "      <td>67</td>\n",
       "      <td>N</td>\n",
       "      <td>0</td>\n",
       "      <td>tourney</td>\n",
       "      <td>3177_3320</td>\n",
       "      <td>3320_3177</td>\n",
       "    </tr>\n",
       "    <tr>\n",
       "      <th>3</th>\n",
       "      <td>2017</td>\n",
       "      <td>137</td>\n",
       "      <td>3199</td>\n",
       "      <td>87</td>\n",
       "      <td>3442</td>\n",
       "      <td>66</td>\n",
       "      <td>H</td>\n",
       "      <td>0</td>\n",
       "      <td>tourney</td>\n",
       "      <td>3199_3442</td>\n",
       "      <td>3442_3199</td>\n",
       "    </tr>\n",
       "    <tr>\n",
       "      <th>4</th>\n",
       "      <td>2017</td>\n",
       "      <td>137</td>\n",
       "      <td>3246</td>\n",
       "      <td>73</td>\n",
       "      <td>3125</td>\n",
       "      <td>70</td>\n",
       "      <td>H</td>\n",
       "      <td>0</td>\n",
       "      <td>tourney</td>\n",
       "      <td>3246_3125</td>\n",
       "      <td>3125_3246</td>\n",
       "    </tr>\n",
       "  </tbody>\n",
       "</table>\n",
       "</div>"
      ],
      "text/plain": [
       "   Season  DayNum  WTeamID  WScore  LTeamID  LScore WLoc  NumOT fromdata  \\\n",
       "0    2017     137     3113      73     3277      61    N      0  tourney   \n",
       "1    2017     137     3166      76     3405      49    N      0  tourney   \n",
       "2    2017     137     3177      88     3320      67    N      0  tourney   \n",
       "3    2017     137     3199      87     3442      66    H      0  tourney   \n",
       "4    2017     137     3246      73     3125      70    H      0  tourney   \n",
       "\n",
       "  WmatchTeam LmatchTeam  \n",
       "0  3113_3277  3277_3113  \n",
       "1  3166_3405  3405_3166  \n",
       "2  3177_3320  3320_3177  \n",
       "3  3199_3442  3442_3199  \n",
       "4  3246_3125  3125_3246  "
      ]
     },
     "execution_count": 163,
     "metadata": {},
     "output_type": "execute_result"
    }
   ],
   "source": [
    "results_tourney.head()"
   ]
  },
  {
   "cell_type": "markdown",
   "metadata": {},
   "source": [
    "# Seed"
   ]
  },
  {
   "cell_type": "code",
   "execution_count": 164,
   "metadata": {},
   "outputs": [],
   "source": [
    "results_tourney = pd.merge(results_tourney, seeds, how='left', left_on=['Season', 'WTeamID'], right_on=['Season', 'TeamID'])\n",
    "results_tourney.rename(columns={'Seed': 'WSeed'}, inplace=True)\n",
    "results_tourney['WSeed'] = results_tourney['WSeed'].astype(str).str[1:].astype(int)\n",
    "\n",
    "results_tourney = pd.merge(results_tourney, seeds, how='left', left_on=['Season', 'LTeamID'], right_on=['Season', 'TeamID'])\n",
    "results_tourney.rename(columns={'Seed': 'LSeed'}, inplace=True)\n",
    "results_tourney['LSeed'] = results_tourney['LSeed'].astype(str).str[1:].astype(int)\n",
    "\n",
    "results_tourney['diff_seed'] = results_tourney['WSeed'] - results_tourney['LSeed']"
   ]
  },
  {
   "cell_type": "code",
   "execution_count": 165,
   "metadata": {},
   "outputs": [],
   "source": [
    "results_season = pd.merge(results_season, seeds, how='left', left_on=['Season', 'WTeamID'], right_on=['Season', 'TeamID'])\n",
    "results_season.rename(columns={'Seed': 'WSeed'}, inplace=True)\n",
    "results_season['WSeed'] = results_season['WSeed'].fillna('X15').astype(str).str[1:].astype(int)\n",
    "\n",
    "results_season = pd.merge(results_season, seeds, how='left', left_on=['Season', 'LTeamID'], right_on=['Season', 'TeamID'])\n",
    "results_season.rename(columns={'Seed': 'LSeed'}, inplace=True)\n",
    "results_season['LSeed'] = results_season['LSeed'].fillna('X15').astype(str).str[1:].astype(int)\n",
    "\n",
    "results_season['diff_seed'] = results_season['WSeed'] - results_season['LSeed']"
   ]
  },
  {
   "cell_type": "code",
   "execution_count": 166,
   "metadata": {},
   "outputs": [
    {
     "name": "stdout",
     "output_type": "stream",
     "text": [
      "(189, 16)\n",
      "(15659, 16)\n",
      "(1408, 3)\n"
     ]
    }
   ],
   "source": [
    "print(results_tourney.shape)\n",
    "print(results_season.shape)\n",
    "print(seeds.shape)"
   ]
  },
  {
   "cell_type": "markdown",
   "metadata": {},
   "source": [
    "# Diff"
   ]
  },
  {
   "cell_type": "code",
   "execution_count": 167,
   "metadata": {},
   "outputs": [],
   "source": [
    "# Easy for tourney\n",
    "attack_winner_score_to_merge = results_season.groupby(['Season', 'WTeamID']).agg({'WScore': 'sum'}).reset_index()\n",
    "attack_winner_score_to_merge.rename(columns={'WScore': 'Wscore_season_attack'}, inplace=True)\n",
    "results_tourney = pd.merge(results_tourney, attack_winner_score_to_merge, how='left', left_on=['Season', 'WTeamID'], right_on=['Season', 'WTeamID'])\n",
    "\n",
    "attack_looser_score_to_merge = results_season.groupby(['Season', 'LTeamID']).agg({'LScore': 'sum'}).reset_index()\n",
    "attack_looser_score_to_merge.rename(columns={'LScore': 'LScore_season_attack'}, inplace=True)\n",
    "results_tourney = pd.merge(results_tourney, attack_looser_score_to_merge, how='left', left_on=['Season', 'LTeamID'], right_on=['Season', 'LTeamID'])\n",
    "\n",
    "def_winner_score_to_merge = results_season.groupby(['Season', 'WTeamID']).agg({'LScore': 'sum'}).reset_index()\n",
    "def_winner_score_to_merge.rename(columns={'LScore': 'Wscore_season_def'}, inplace=True)\n",
    "results_tourney = pd.merge(results_tourney, def_winner_score_to_merge, how='left', left_on=['Season', 'WTeamID'], right_on=['Season', 'WTeamID'])\n",
    "\n",
    "def_looser_score_to_merge = results_season.groupby(['Season', 'LTeamID']).agg({'WScore': 'sum'}).reset_index()\n",
    "def_looser_score_to_merge.rename(columns={'WScore': 'Lscore_season_def'}, inplace=True)\n",
    "results_tourney = pd.merge(results_tourney, def_looser_score_to_merge, how='left', left_on=['Season', 'LTeamID'], right_on=['Season', 'LTeamID'])\n",
    "\n",
    "results_tourney['diff_def'] = results_tourney['Wscore_season_def'] / results_tourney['Lscore_season_def']\n",
    "results_tourney['diff_attack'] = results_tourney['Wscore_season_attack'] /results_tourney['LScore_season_attack']"
   ]
  },
  {
   "cell_type": "code",
   "execution_count": 168,
   "metadata": {},
   "outputs": [],
   "source": [
    "results_tourney['diff_def'] = results_tourney['diff_def'].fillna(-999)\n",
    "results_tourney['diff_attack'] = results_tourney['diff_attack'].fillna(-999)"
   ]
  },
  {
   "cell_type": "code",
   "execution_count": 169,
   "metadata": {},
   "outputs": [
    {
     "name": "stdout",
     "output_type": "stream",
     "text": [
      "2017\n",
      "2018\n",
      "2019\n"
     ]
    }
   ],
   "source": [
    "# Not easy for season\n",
    "j_wscore = results_season.columns.get_loc('WScore')\n",
    "j_lscore = results_season.columns.get_loc('LScore')\n",
    "j_team = results_season.columns.get_loc('WTeamID')\n",
    "for season in range(np.min(results_season['Season']), np.max(results_season['Season'])+1):\n",
    "    print(season)\n",
    "    for team in np.unique(results_season['WTeamID']):\n",
    "        prev_score_watt = 0\n",
    "        prev_score_latt = 0\n",
    "        prev_score_wdef = 0\n",
    "        prev_score_ldef = 0\n",
    "        for i in range(0, results_season.shape[0]):\n",
    "            if (results_season.iat[i, j_team]==team) & (results_season.loc[i, 'Season']==season):\n",
    "                results_season.loc[i, 'Wscore_season_attack'] = results_season.iat[i, j_wscore] + prev_score_watt\n",
    "                prev_score_watt = results_season.loc[i, 'Wscore_season_attack']\n",
    "                \n",
    "                results_season.loc[i, 'Wscore_season_def'] = results_season.iat[i, j_lscore] + prev_score_wdef\n",
    "                prev_score_wdef = results_season.loc[i, 'Wscore_season_def']\n",
    "                \n",
    "            if (results_season.iat[i, j_team]==team) & (results_season.loc[i, 'Season']==season):\n",
    "                results_season.loc[i, 'LScore_season_attack'] = results_season.iat[i, j_lscore] + prev_score_latt\n",
    "                prev_score_latt = results_season.loc[i, 'LScore_season_attack']\n",
    "                \n",
    "                results_season.loc[i, 'Lscore_season_def'] = results_season.iat[i, j_wscore] + prev_score_ldef\n",
    "                prev_score_ldef = results_season.loc[i, 'Lscore_season_def']\n",
    "                \n",
    "results_season['diff_def'] = results_season['Wscore_season_def'] / results_season['Lscore_season_def']\n",
    "results_season['diff_attack'] = results_season['Wscore_season_attack'] / results_season['LScore_season_attack']"
   ]
  },
  {
   "cell_type": "code",
   "execution_count": 170,
   "metadata": {},
   "outputs": [],
   "source": [
    "results_season['diff_def'] = results_season['diff_def'].fillna(-999)\n",
    "results_season['diff_attack'] = results_season['diff_attack'].fillna(-999)"
   ]
  },
  {
   "cell_type": "code",
   "execution_count": 188,
   "metadata": {},
   "outputs": [],
   "source": [
    "# Easy for tourney\n",
    "prev_score_to_merge = results_season.groupby(['Season', 'WmatchTeam']).agg({'result': 'sum'}).reset_index()\n",
    "prev_score_to_merge.rename(columns={'result': 'nb_win_previous'}, inplace=True)\n",
    "results_tourney = pd.merge(results_tourney, prev_score_to_merge, how='left', left_on=['Season', 'WmatchTeam'], right_on=['Season', 'WmatchTeam'])\n",
    "results_tourney['nb_win_previous'] = results_tourney['nb_win_previous'].fillna(0)"
   ]
  },
  {
   "cell_type": "code",
   "execution_count": 189,
   "metadata": {},
   "outputs": [],
   "source": [
    "# Easy for tourney\n",
    "prev_score_to_merge = results_season.groupby(['Season', 'WmatchTeam']).agg({'result': 'sum'}).reset_index()\n",
    "prev_score_to_merge.rename(columns={'result': 'nb_win_previous'}, inplace=True)\n",
    "results_season = pd.merge(results_season, prev_score_to_merge, how='left', left_on=['Season', 'WmatchTeam'], right_on=['Season', 'WmatchTeam'])\n",
    "results_season['nb_win_previous'] = results_season['nb_win_previous'].fillna(0)"
   ]
  },
  {
   "cell_type": "code",
   "execution_count": 190,
   "metadata": {},
   "outputs": [
    {
     "name": "stdout",
     "output_type": "stream",
     "text": [
      "(378, 24)\n",
      "(31318, 24)\n",
      "(1408, 3)\n"
     ]
    }
   ],
   "source": [
    "print(results_tourney.shape)\n",
    "print(results_season.shape)\n",
    "print(seeds.shape)"
   ]
  },
  {
   "cell_type": "code",
   "execution_count": 172,
   "metadata": {},
   "outputs": [
    {
     "data": {
      "text/html": [
       "<div>\n",
       "<style scoped>\n",
       "    .dataframe tbody tr th:only-of-type {\n",
       "        vertical-align: middle;\n",
       "    }\n",
       "\n",
       "    .dataframe tbody tr th {\n",
       "        vertical-align: top;\n",
       "    }\n",
       "\n",
       "    .dataframe thead th {\n",
       "        text-align: right;\n",
       "    }\n",
       "</style>\n",
       "<table border=\"1\" class=\"dataframe\">\n",
       "  <thead>\n",
       "    <tr style=\"text-align: right;\">\n",
       "      <th></th>\n",
       "      <th>Season</th>\n",
       "      <th>DayNum</th>\n",
       "      <th>WTeamID</th>\n",
       "      <th>WScore</th>\n",
       "      <th>LTeamID</th>\n",
       "      <th>LScore</th>\n",
       "      <th>WLoc</th>\n",
       "      <th>NumOT</th>\n",
       "      <th>fromdata</th>\n",
       "      <th>WmatchTeam</th>\n",
       "      <th>...</th>\n",
       "      <th>TeamID_x</th>\n",
       "      <th>LSeed</th>\n",
       "      <th>TeamID_y</th>\n",
       "      <th>diff_seed</th>\n",
       "      <th>Wscore_season_attack</th>\n",
       "      <th>LScore_season_attack</th>\n",
       "      <th>Wscore_season_def</th>\n",
       "      <th>Lscore_season_def</th>\n",
       "      <th>diff_def</th>\n",
       "      <th>diff_attack</th>\n",
       "    </tr>\n",
       "  </thead>\n",
       "  <tbody>\n",
       "    <tr>\n",
       "      <th>179</th>\n",
       "      <td>2019</td>\n",
       "      <td>145</td>\n",
       "      <td>3234</td>\n",
       "      <td>79</td>\n",
       "      <td>3301</td>\n",
       "      <td>61</td>\n",
       "      <td>A</td>\n",
       "      <td>0</td>\n",
       "      <td>tourney</td>\n",
       "      <td>3234_3301</td>\n",
       "      <td>...</td>\n",
       "      <td>3234</td>\n",
       "      <td>3</td>\n",
       "      <td>3301</td>\n",
       "      <td>-1</td>\n",
       "      <td>2136</td>\n",
       "      <td>323.0</td>\n",
       "      <td>1676</td>\n",
       "      <td>404.0</td>\n",
       "      <td>4.148515</td>\n",
       "      <td>6.613003</td>\n",
       "    </tr>\n",
       "    <tr>\n",
       "      <th>180</th>\n",
       "      <td>2019</td>\n",
       "      <td>145</td>\n",
       "      <td>3323</td>\n",
       "      <td>87</td>\n",
       "      <td>3401</td>\n",
       "      <td>80</td>\n",
       "      <td>H</td>\n",
       "      <td>0</td>\n",
       "      <td>tourney</td>\n",
       "      <td>3323_3401</td>\n",
       "      <td>...</td>\n",
       "      <td>3323</td>\n",
       "      <td>4</td>\n",
       "      <td>3401</td>\n",
       "      <td>-3</td>\n",
       "      <td>2729</td>\n",
       "      <td>422.0</td>\n",
       "      <td>1874</td>\n",
       "      <td>492.0</td>\n",
       "      <td>3.808943</td>\n",
       "      <td>6.466825</td>\n",
       "    </tr>\n",
       "    <tr>\n",
       "      <th>181</th>\n",
       "      <td>2019</td>\n",
       "      <td>145</td>\n",
       "      <td>3390</td>\n",
       "      <td>55</td>\n",
       "      <td>3283</td>\n",
       "      <td>46</td>\n",
       "      <td>N</td>\n",
       "      <td>0</td>\n",
       "      <td>tourney</td>\n",
       "      <td>3390_3283</td>\n",
       "      <td>...</td>\n",
       "      <td>3390</td>\n",
       "      <td>11</td>\n",
       "      <td>3283</td>\n",
       "      <td>-9</td>\n",
       "      <td>2124</td>\n",
       "      <td>602.0</td>\n",
       "      <td>1622</td>\n",
       "      <td>671.0</td>\n",
       "      <td>2.417288</td>\n",
       "      <td>3.528239</td>\n",
       "    </tr>\n",
       "    <tr>\n",
       "      <th>182</th>\n",
       "      <td>2019</td>\n",
       "      <td>146</td>\n",
       "      <td>3163</td>\n",
       "      <td>80</td>\n",
       "      <td>3257</td>\n",
       "      <td>73</td>\n",
       "      <td>H</td>\n",
       "      <td>0</td>\n",
       "      <td>tourney</td>\n",
       "      <td>3163_3257</td>\n",
       "      <td>...</td>\n",
       "      <td>3163</td>\n",
       "      <td>1</td>\n",
       "      <td>3257</td>\n",
       "      <td>1</td>\n",
       "      <td>2600</td>\n",
       "      <td>220.0</td>\n",
       "      <td>1655</td>\n",
       "      <td>260.0</td>\n",
       "      <td>6.365385</td>\n",
       "      <td>11.818182</td>\n",
       "    </tr>\n",
       "    <tr>\n",
       "      <th>183</th>\n",
       "      <td>2019</td>\n",
       "      <td>146</td>\n",
       "      <td>3332</td>\n",
       "      <td>88</td>\n",
       "      <td>3280</td>\n",
       "      <td>84</td>\n",
       "      <td>H</td>\n",
       "      <td>0</td>\n",
       "      <td>tourney</td>\n",
       "      <td>3332_3280</td>\n",
       "      <td>...</td>\n",
       "      <td>3332</td>\n",
       "      <td>1</td>\n",
       "      <td>3280</td>\n",
       "      <td>1</td>\n",
       "      <td>2455</td>\n",
       "      <td>141.0</td>\n",
       "      <td>1747</td>\n",
       "      <td>157.0</td>\n",
       "      <td>11.127389</td>\n",
       "      <td>17.411348</td>\n",
       "    </tr>\n",
       "    <tr>\n",
       "      <th>184</th>\n",
       "      <td>2019</td>\n",
       "      <td>147</td>\n",
       "      <td>3124</td>\n",
       "      <td>85</td>\n",
       "      <td>3234</td>\n",
       "      <td>53</td>\n",
       "      <td>N</td>\n",
       "      <td>0</td>\n",
       "      <td>tourney</td>\n",
       "      <td>3124_3234</td>\n",
       "      <td>...</td>\n",
       "      <td>3124</td>\n",
       "      <td>2</td>\n",
       "      <td>3234</td>\n",
       "      <td>-1</td>\n",
       "      <td>2512</td>\n",
       "      <td>419.0</td>\n",
       "      <td>1677</td>\n",
       "      <td>487.0</td>\n",
       "      <td>3.443532</td>\n",
       "      <td>5.995227</td>\n",
       "    </tr>\n",
       "    <tr>\n",
       "      <th>185</th>\n",
       "      <td>2019</td>\n",
       "      <td>147</td>\n",
       "      <td>3323</td>\n",
       "      <td>84</td>\n",
       "      <td>3390</td>\n",
       "      <td>68</td>\n",
       "      <td>H</td>\n",
       "      <td>0</td>\n",
       "      <td>tourney</td>\n",
       "      <td>3323_3390</td>\n",
       "      <td>...</td>\n",
       "      <td>3323</td>\n",
       "      <td>2</td>\n",
       "      <td>3390</td>\n",
       "      <td>-1</td>\n",
       "      <td>2729</td>\n",
       "      <td>269.0</td>\n",
       "      <td>1874</td>\n",
       "      <td>323.0</td>\n",
       "      <td>5.801858</td>\n",
       "      <td>10.144981</td>\n",
       "    </tr>\n",
       "    <tr>\n",
       "      <th>186</th>\n",
       "      <td>2019</td>\n",
       "      <td>151</td>\n",
       "      <td>3124</td>\n",
       "      <td>72</td>\n",
       "      <td>3332</td>\n",
       "      <td>67</td>\n",
       "      <td>N</td>\n",
       "      <td>0</td>\n",
       "      <td>tourney</td>\n",
       "      <td>3124_3332</td>\n",
       "      <td>...</td>\n",
       "      <td>3124</td>\n",
       "      <td>2</td>\n",
       "      <td>3332</td>\n",
       "      <td>-1</td>\n",
       "      <td>2512</td>\n",
       "      <td>270.0</td>\n",
       "      <td>1677</td>\n",
       "      <td>293.0</td>\n",
       "      <td>5.723549</td>\n",
       "      <td>9.303704</td>\n",
       "    </tr>\n",
       "    <tr>\n",
       "      <th>187</th>\n",
       "      <td>2019</td>\n",
       "      <td>151</td>\n",
       "      <td>3323</td>\n",
       "      <td>81</td>\n",
       "      <td>3163</td>\n",
       "      <td>76</td>\n",
       "      <td>N</td>\n",
       "      <td>0</td>\n",
       "      <td>tourney</td>\n",
       "      <td>3323_3163</td>\n",
       "      <td>...</td>\n",
       "      <td>3323</td>\n",
       "      <td>2</td>\n",
       "      <td>3163</td>\n",
       "      <td>-1</td>\n",
       "      <td>2729</td>\n",
       "      <td>126.0</td>\n",
       "      <td>1874</td>\n",
       "      <td>146.0</td>\n",
       "      <td>12.835616</td>\n",
       "      <td>21.658730</td>\n",
       "    </tr>\n",
       "    <tr>\n",
       "      <th>188</th>\n",
       "      <td>2019</td>\n",
       "      <td>153</td>\n",
       "      <td>3124</td>\n",
       "      <td>82</td>\n",
       "      <td>3323</td>\n",
       "      <td>81</td>\n",
       "      <td>N</td>\n",
       "      <td>0</td>\n",
       "      <td>tourney</td>\n",
       "      <td>3124_3323</td>\n",
       "      <td>...</td>\n",
       "      <td>3124</td>\n",
       "      <td>1</td>\n",
       "      <td>3323</td>\n",
       "      <td>0</td>\n",
       "      <td>2512</td>\n",
       "      <td>209.0</td>\n",
       "      <td>1677</td>\n",
       "      <td>239.0</td>\n",
       "      <td>7.016736</td>\n",
       "      <td>12.019139</td>\n",
       "    </tr>\n",
       "  </tbody>\n",
       "</table>\n",
       "<p>10 rows × 22 columns</p>\n",
       "</div>"
      ],
      "text/plain": [
       "     Season  DayNum  WTeamID  WScore  LTeamID  LScore WLoc  NumOT fromdata  \\\n",
       "179    2019     145     3234      79     3301      61    A      0  tourney   \n",
       "180    2019     145     3323      87     3401      80    H      0  tourney   \n",
       "181    2019     145     3390      55     3283      46    N      0  tourney   \n",
       "182    2019     146     3163      80     3257      73    H      0  tourney   \n",
       "183    2019     146     3332      88     3280      84    H      0  tourney   \n",
       "184    2019     147     3124      85     3234      53    N      0  tourney   \n",
       "185    2019     147     3323      84     3390      68    H      0  tourney   \n",
       "186    2019     151     3124      72     3332      67    N      0  tourney   \n",
       "187    2019     151     3323      81     3163      76    N      0  tourney   \n",
       "188    2019     153     3124      82     3323      81    N      0  tourney   \n",
       "\n",
       "    WmatchTeam  ... TeamID_x  LSeed  TeamID_y  diff_seed  \\\n",
       "179  3234_3301  ...     3234      3      3301         -1   \n",
       "180  3323_3401  ...     3323      4      3401         -3   \n",
       "181  3390_3283  ...     3390     11      3283         -9   \n",
       "182  3163_3257  ...     3163      1      3257          1   \n",
       "183  3332_3280  ...     3332      1      3280          1   \n",
       "184  3124_3234  ...     3124      2      3234         -1   \n",
       "185  3323_3390  ...     3323      2      3390         -1   \n",
       "186  3124_3332  ...     3124      2      3332         -1   \n",
       "187  3323_3163  ...     3323      2      3163         -1   \n",
       "188  3124_3323  ...     3124      1      3323          0   \n",
       "\n",
       "     Wscore_season_attack  LScore_season_attack  Wscore_season_def  \\\n",
       "179                  2136                 323.0               1676   \n",
       "180                  2729                 422.0               1874   \n",
       "181                  2124                 602.0               1622   \n",
       "182                  2600                 220.0               1655   \n",
       "183                  2455                 141.0               1747   \n",
       "184                  2512                 419.0               1677   \n",
       "185                  2729                 269.0               1874   \n",
       "186                  2512                 270.0               1677   \n",
       "187                  2729                 126.0               1874   \n",
       "188                  2512                 209.0               1677   \n",
       "\n",
       "     Lscore_season_def   diff_def  diff_attack  \n",
       "179              404.0   4.148515     6.613003  \n",
       "180              492.0   3.808943     6.466825  \n",
       "181              671.0   2.417288     3.528239  \n",
       "182              260.0   6.365385    11.818182  \n",
       "183              157.0  11.127389    17.411348  \n",
       "184              487.0   3.443532     5.995227  \n",
       "185              323.0   5.801858    10.144981  \n",
       "186              293.0   5.723549     9.303704  \n",
       "187              146.0  12.835616    21.658730  \n",
       "188              239.0   7.016736    12.019139  \n",
       "\n",
       "[10 rows x 22 columns]"
      ]
     },
     "execution_count": 172,
     "metadata": {},
     "output_type": "execute_result"
    }
   ],
   "source": [
    "results_tourney.tail(10)"
   ]
  },
  {
   "cell_type": "markdown",
   "metadata": {},
   "source": [
    "# Convert"
   ]
  },
  {
   "cell_type": "code",
   "execution_count": 173,
   "metadata": {},
   "outputs": [],
   "source": [
    "def convert_result(results_origin):\n",
    "    \"\"\" Create a combine data with win and loose \"\"\"\n",
    "    results = results_origin.copy()\n",
    "    results['result'] = 1 # win\n",
    "    Lresults = results.copy()\n",
    "    Lresults['result'] = 0 # lose\n",
    "    Lresults['WTeamID'] = results['LTeamID']\n",
    "    Lresults['LTeamID'] = results['WTeamID']\n",
    "    Lresults['WScore'] = results['LScore']\n",
    "    Lresults['LScore'] = results['WScore']\n",
    "    Lresults['diff_seed'] = -results['diff_seed']\n",
    "    Lresults['diff_attack'] = 1 / results['diff_attack']\n",
    "    Lresults['diff_def'] = 1 / results['diff_def']\n",
    "    Lresults['Wscore_season_def'] = results['Lscore_season_def']\n",
    "    Lresults['Wscore_season_attack'] = results['Lscore_season_attack']\n",
    "    Lresults['Lscore_season_def'] = results['Wscore_season_def']\n",
    "    Lresults['Lscore_season_attack'] = results['Lscore_season_attack']\n",
    "    # Lresults['nb_win_previous'] = 1 / results['nb_win_previous']\n",
    "    Lresults['WLoc'].replace({'H': 'A'}, inplace=True)\n",
    "    \n",
    "    Lresults['WmatchTeam'] = Lresults['WTeamID'].astype(str) + '_' + Lresults['LTeamID'].astype(str)\n",
    "    Lresults['LmatchTeam'] = Lresults['LTeamID'].astype(str) + '_' + Lresults['WTeamID'].astype(str)\n",
    "    \n",
    "    results = pd.concat([results, Lresults]).reset_index(drop=True)\n",
    "\n",
    "    results = results.sort_values(by=['Season', 'DayNum', 'WmatchTeam'], ascending=True)\n",
    "    results.reset_index(inplace=True, drop=True)\n",
    "    \n",
    "    return results"
   ]
  },
  {
   "cell_type": "code",
   "execution_count": 174,
   "metadata": {},
   "outputs": [],
   "source": [
    "results_season = convert_result(results_season)\n",
    "results_tourney = convert_result(results_tourney)"
   ]
  },
  {
   "cell_type": "code",
   "execution_count": 175,
   "metadata": {},
   "outputs": [],
   "source": [
    "results = pd.concat([results_season, results_tourney]).reset_index(drop=True)"
   ]
  },
  {
   "cell_type": "code",
   "execution_count": 176,
   "metadata": {},
   "outputs": [
    {
     "data": {
      "text/plain": [
       "array([2017, 2018, 2019])"
      ]
     },
     "execution_count": 176,
     "metadata": {},
     "output_type": "execute_result"
    }
   ],
   "source": [
    "np.unique(results['Season'])"
   ]
  },
  {
   "cell_type": "markdown",
   "metadata": {},
   "source": [
    "# Model"
   ]
  },
  {
   "cell_type": "code",
   "execution_count": 183,
   "metadata": {},
   "outputs": [],
   "source": [
    "# Create fold strategy\n",
    "# To do: weight on fold\n",
    "myCViterator = []\n",
    "weight = []\n",
    "for fold in [2017, 2018, 2019]:\n",
    "    trainIndices = results[(results['Season']==fold) & (results['fromdata']=='season')].index.values.astype(int)\n",
    "    testIndices =  results[(results['Season']==fold) & (results['fromdata']=='tourney')].index.values.astype(int)\n",
    "    myCViterator.append((trainIndices, testIndices))"
   ]
  },
  {
   "cell_type": "code",
   "execution_count": 184,
   "metadata": {},
   "outputs": [],
   "source": [
    "variables = ['diff_seed', 'diff_def', 'diff_attack']\n",
    "X = results[variables]\n",
    "y = results['result']"
   ]
  },
  {
   "cell_type": "code",
   "execution_count": 185,
   "metadata": {},
   "outputs": [],
   "source": [
    "from sklearn.base import TransformerMixin, BaseEstimator\n",
    "class CategoriesHarm(TransformerMixin, BaseEstimator):\n",
    "    \n",
    "    def __init__(self):\n",
    "        self.cat_save = None \n",
    "        \n",
    "    def fit(self, X, y=None):\n",
    "        \n",
    "        self.cat_save = []\n",
    "        for i in range(X.shape[1]):\n",
    "            self.cat_save.append(np.unique(X.iloc[:, i]))\n",
    "        return self\n",
    "        \n",
    "    def transform(self, X):\n",
    "        \n",
    "        X_new = X.copy()\n",
    "        for i in range(X.shape[1]):\n",
    "            X_new.iloc[~np.isin(X_new.iloc[:, i], self.cat_save[i]), i] = self.cat_save[i][-1]\n",
    "        \n",
    "        return X_new"
   ]
  },
  {
   "cell_type": "code",
   "execution_count": 186,
   "metadata": {},
   "outputs": [],
   "source": [
    "from sklearn.model_selection import cross_val_score, cross_val_predict\n",
    "from sklearn import linear_model\n",
    "from sklearn.pipeline import Pipeline\n",
    "from sklearn.preprocessing import OneHotEncoder\n",
    "from sklearn.preprocessing import KBinsDiscretizer\n",
    "from sklearn.compose import ColumnTransformer\n",
    "from sklearn.metrics import log_loss\n",
    "from sklearn.metrics import make_scorer\n",
    "\n",
    "\n",
    "# To do: change to real binner\n",
    "pip_num = Pipeline([('binnernum', KBinsDiscretizer(n_bins=5, encode='ordinal')),\n",
    "                    ('onehotnum', OneHotEncoder(drop='first', sparse=False))])\n",
    "pip_cat = Pipeline([('harmcat', CategoriesHarm()),\n",
    "                    ('onehotcat', OneHotEncoder(drop='first', sparse=False))])\n",
    "data_prep = ColumnTransformer([\n",
    "    ('cat_feat', pip_num, ['diff_attack', 'diff_def']),\n",
    "    ('num_feat', pip_cat, ['diff_seed'])])"
   ]
  },
  {
   "cell_type": "code",
   "execution_count": 187,
   "metadata": {},
   "outputs": [
    {
     "name": "stdout",
     "output_type": "stream",
     "text": [
      "0.81519404366985\n",
      "0.6984511514328279\n",
      "0.6087304272939147\n"
     ]
    }
   ],
   "source": [
    "model = Pipeline([('prep', data_prep),\n",
    "                  ('model', linear_model.LogisticRegression(C=10))])\n",
    "for i, cv in enumerate(myCViterator):\n",
    "    model.fit(X.iloc[cv[0], :], y.iloc[cv[0]])\n",
    "    proba = model.predict_proba(X.iloc[cv[1], :])[:, 1]\n",
    "    print(log_loss(y.iloc[cv[1]], proba))"
   ]
  },
  {
   "cell_type": "code",
   "execution_count": null,
   "metadata": {},
   "outputs": [],
   "source": []
  },
  {
   "cell_type": "code",
   "execution_count": null,
   "metadata": {},
   "outputs": [],
   "source": [
    "sub = pd.read_csv('WSampleSubmissionStage2_2019.csv')"
   ]
  },
  {
   "cell_type": "code",
   "execution_count": null,
   "metadata": {},
   "outputs": [],
   "source": [
    "sub['Season'] = sub['ID'].str.split(\"_\", n=1, expand=True)[0].astype('int')\n",
    "sub['WTeamID'] = sub['ID'].str.split(\"_\", n=2, expand=True)[1].astype('int')\n",
    "sub['LTeamID'] = sub['ID'].str.split(\"_\", n=3, expand=True)[2].astype('int')\n",
    "sub = pd.merge(sub, seeds, how='left', left_on=['Season', 'WTeamID'], right_on=['Season', 'TeamID'])\n",
    "sub.rename(columns={'Seed': 'WSeed'}, inplace=True)\n",
    "sub['WSeed'] = sub['WSeed'].astype(str).str[1:].astype(int)\n",
    "\n",
    "sub = pd.merge(sub, seeds, how='left', left_on=['Season', 'LTeamID'], right_on=['Season', 'TeamID'])\n",
    "sub.rename(columns={'Seed': 'LSeed'}, inplace=True)\n",
    "sub['LSeed'] = sub['LSeed'].astype(str).str[1:].astype(int)"
   ]
  },
  {
   "cell_type": "code",
   "execution_count": null,
   "metadata": {},
   "outputs": [],
   "source": [
    "sub['diff_seed'] = sub['WSeed'] - sub['LSeed']"
   ]
  },
  {
   "cell_type": "code",
   "execution_count": null,
   "metadata": {},
   "outputs": [],
   "source": [
    "# Easy for tourney\n",
    "attack_winner_score_to_merge = results_season.groupby(['Season', 'WTeamID']).agg({'WScore': 'sum'}).reset_index()\n",
    "attack_winner_score_to_merge.rename(columns={'WScore': 'Wscore_season_attack'}, inplace=True)\n",
    "sub = pd.merge(sub, attack_winner_score_to_merge, how='left', left_on=['Season', 'WTeamID'], right_on=['Season', 'WTeamID'])\n",
    "\n",
    "attack_looser_score_to_merge = results_season.groupby(['Season', 'LTeamID']).agg({'LScore': 'sum'}).reset_index()\n",
    "attack_looser_score_to_merge.rename(columns={'LScore': 'LScore_season_attack'}, inplace=True)\n",
    "sub = pd.merge(sub, attack_looser_score_to_merge, how='left', left_on=['Season', 'LTeamID'], right_on=['Season', 'LTeamID'])\n",
    "\n",
    "def_winner_score_to_merge = results_season.groupby(['Season', 'WTeamID']).agg({'LScore': 'sum'}).reset_index()\n",
    "def_winner_score_to_merge.rename(columns={'LScore': 'Wscore_season_def'}, inplace=True)\n",
    "sub = pd.merge(sub, def_winner_score_to_merge, how='left', left_on=['Season', 'WTeamID'], right_on=['Season', 'WTeamID'])\n",
    "\n",
    "def_looser_score_to_merge = results_season.groupby(['Season', 'LTeamID']).agg({'WScore': 'sum'}).reset_index()\n",
    "def_looser_score_to_merge.rename(columns={'WScore': 'Lscore_season_def'}, inplace=True)\n",
    "sub = pd.merge(sub, def_looser_score_to_merge, how='left', left_on=['Season', 'LTeamID'], right_on=['Season', 'LTeamID'])\n",
    "\n",
    "sub['diff_def'] = sub['Wscore_season_def'] / sub['Lscore_season_def']\n",
    "sub['diff_attack'] = sub['Wscore_season_attack'] / sub['LScore_season_attack']"
   ]
  },
  {
   "cell_type": "code",
   "execution_count": null,
   "metadata": {},
   "outputs": [],
   "source": [
    "X_sub = sub[variables]\n",
    "proba = model.predict_proba(X_sub)[:, 1]"
   ]
  },
  {
   "cell_type": "code",
   "execution_count": null,
   "metadata": {},
   "outputs": [],
   "source": [
    "sub = pd.read_csv('WSampleSubmissionStage2_2019.csv')"
   ]
  },
  {
   "cell_type": "code",
   "execution_count": null,
   "metadata": {},
   "outputs": [],
   "source": [
    "sub['Pred'] = proba"
   ]
  },
  {
   "cell_type": "code",
   "execution_count": null,
   "metadata": {},
   "outputs": [],
   "source": [
    "sub.to_csv('sub.csv', index=False)"
   ]
  },
  {
   "cell_type": "code",
   "execution_count": null,
   "metadata": {},
   "outputs": [],
   "source": []
  }
 ],
 "metadata": {
  "kernelspec": {
   "display_name": "Python 3",
   "language": "python",
   "name": "python3"
  },
  "language_info": {
   "codemirror_mode": {
    "name": "ipython",
    "version": 3
   },
   "file_extension": ".py",
   "mimetype": "text/x-python",
   "name": "python",
   "nbconvert_exporter": "python",
   "pygments_lexer": "ipython3",
   "version": "3.7.4"
  }
 },
 "nbformat": 4,
 "nbformat_minor": 4
}
